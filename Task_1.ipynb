{
 "cells": [
  {
   "cell_type": "markdown",
   "metadata": {},
   "source": [
    "# TASK-1"
   ]
  },
  {
   "cell_type": "markdown",
   "metadata": {},
   "source": [
    "## Q1"
   ]
  },
  {
   "cell_type": "code",
   "execution_count": null,
   "metadata": {},
   "outputs": [],
   "source": [
    "import matplotlib.pyplot as plt\n",
    "import pandas as pd\n",
    "import numpy as np\n",
    "%config InlineBackend.figure_format='retina'\n",
    "Laying_df = pd.read_csv('.\\HAR\\Combined\\Train\\LAYING\\Subject_1.csv')\n",
    "Sitting_df = pd.read_csv('.\\HAR\\Combined\\Train\\SITTING\\Subject_1.csv')\n",
    "Standing_df = pd.read_csv('.\\HAR\\Combined\\Train\\STANDING\\Subject_1.csv')\n",
    "Walking_df = pd.read_csv('.\\HAR\\Combined\\Train\\WALKING\\Subject_1.csv')\n",
    "WalkingDown_df = pd.read_csv('.\\HAR\\Combined\\Train\\WALKING_DOWNSTAIRS\\Subject_1.csv')\n",
    "WalkingUp_df = pd.read_csv('.\\HAR\\Combined\\Train\\WALKING_UPSTAIRS\\Subject_1.csv')\n",
    "# List of DataFrames\n",
    "dfs = [Laying_df,Sitting_df,Standing_df,Walking_df,WalkingDown_df,WalkingUp_df]\n",
    "colors = ['blue', 'green', 'red', 'purple', 'orange', 'cyan']\n",
    "labels = ['LAYING','SITTING','STANDING','WALKING','WALKING_DOWN','WALKING_UP']\n",
    "for j, axis in enumerate(['accx', 'accy', 'accz']):\n",
    "    fig, ax = plt.subplots(nrows=6, figsize=(10, 10))\n",
    "    for i, df in enumerate(dfs):\n",
    "        ax[i].plot(df[axis], label=f'{labels[i]}', lw=0.75,color = colors[i])\n",
    "        ax[i].legend(loc='upper right',fontsize='small') \n",
    "    fig.text(0.04, 0.5, f'{axis}', va='center', ha='center', rotation='vertical', fontsize=12)\n",
    "    fig.text(0.5, 0.04, 'Time (samples)', va='center', ha='center', fontsize=12)\n",
    "    fig.text(0.5, 0.9, f'{axis} vs Time (WaveForm)', va='center', ha='center', fontsize=12)\n",
    "    plt.show()\n",
    "    "
   ]
  },
  {
   "cell_type": "markdown",
   "metadata": {},
   "source": [
    "Yes, It is possible for the model to classify models based on the data.\n",
    "\n",
    "As you can see in the above plots, each action has a different pattern in the $acc_x,acc_y,acc_z$.\n",
    "Though depending on our model parameters and settings, it might be a little difficult for the model to differentiate betweens labels like laying and sitting, standing and Walking and WalkingUp. "
   ]
  },
  {
   "cell_type": "markdown",
   "metadata": {},
   "source": [
    "## Q2"
   ]
  },
  {
   "cell_type": "code",
   "execution_count": null,
   "metadata": {},
   "outputs": [],
   "source": [
    "import matplotlib.pyplot as plt\n",
    "import pandas as pd\n",
    "import numpy as np\n",
    "\n",
    "\n",
    "dfs = [np.sqrt(Laying_df['accx']**2+Laying_df['accy']**2+Laying_df['accz']**2),\n",
    "       np.sqrt(Sitting_df['accx']**2+Sitting_df['accy']**2+Sitting_df['accz']**2)\n",
    "       ,np.sqrt(Standing_df['accx']**2+Standing_df['accy']**2+Standing_df['accz']**2)\n",
    "       ,np.sqrt(Walking_df['accx']**2+Walking_df['accy']**2+Walking_df['accz']**2)\n",
    "       ,np.sqrt(WalkingDown_df['accx']**2+WalkingDown_df['accy']**2+WalkingDown_df['accz']**2)\n",
    "       ,np.sqrt(WalkingUp_df['accx']**2+WalkingUp_df['accy']**2+WalkingUp_df['accz']**2)]\n",
    "\n",
    "labels = ['LAYING','SITTING','STANDING','WALKING','WALKING_DOWN','WALKING_UP']\n",
    "\n",
    "fig, ax = plt.subplots(nrows=6, figsize=(10, 15))\n",
    "colors = ['blue', 'green', 'red', 'purple', 'orange', 'cyan']\n",
    "\n",
    "for i, df in enumerate(dfs):\n",
    "    ax[i].plot(df, label=f'{labels[i]}', lw=0.75,color = colors[i])\n",
    "    ax[i].legend(loc='upper right',fontsize='small') \n",
    "\n",
    "# Shared y-label\n",
    "fig.text(0.04, 0.5, '$(acc_x^2+acc_y^2+acc_z^2)$', va='center', ha='center', rotation='vertical', fontsize=12)\n",
    "# Shared x-label\n",
    "fig.text(0.5, 0.04, 'Time (samples)', va='center', ha='center', fontsize=12)\n",
    "plt.show()"
   ]
  },
  {
   "cell_type": "markdown",
   "metadata": {},
   "source": [
    "As you can see from the above data, it is quite possible to distinguish between between static and dynamic without a ML model. As long as the you set a variable that detects the fluctuation in the linear accelaration, it will be very clear whether it is static or dynamic. But to futher detect between the subclasses of static and dynamic can only be done with the help of ML models"
   ]
  },
  {
   "cell_type": "code",
   "execution_count": null,
   "metadata": {},
   "outputs": [],
   "source": []
  }
 ],
 "metadata": {
  "kernelspec": {
   "display_name": "Python 3",
   "language": "python",
   "name": "python3"
  },
  "language_info": {
   "codemirror_mode": {
    "name": "ipython",
    "version": 3
   },
   "file_extension": ".py",
   "mimetype": "text/x-python",
   "name": "python",
   "nbconvert_exporter": "python",
   "pygments_lexer": "ipython3",
   "version": "3.10.6"
  }
 },
 "nbformat": 4,
 "nbformat_minor": 2
}
