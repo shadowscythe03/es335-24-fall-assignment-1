{
 "cells": [
  {
   "cell_type": "markdown",
   "metadata": {},
   "source": [
    "It depends on the purpose we are using our model for. If it is just some normal purposes it is good enough to detect static and dynamic. But sometimes identifying a person is sitting or laying can decide the persons life and death."
   ]
  },
  {
   "cell_type": "code",
   "execution_count": 2,
   "metadata": {},
   "outputs": [],
   "source": [
    "import matplotlib.pyplot as plt\n",
    "import pandas as pd\n",
    "%config InlineBackend.figure_format='retina'\n",
    "Laying_df = pd.read_csv('..\\HAR\\Combined\\Train\\LAYING\\Subject_1.csv').iloc[:1000]\n",
    "Sitting_df = pd.read_csv('..\\HAR\\Combined\\Train\\SITTING\\Subject_1.csv').iloc[:1000]\n",
    "Standing_df = pd.read_csv('..\\HAR\\Combined\\Train\\STANDING\\Subject_1.csv').iloc[:1000]\n",
    "Walking_df = pd.read_csv('..\\HAR\\Combined\\Train\\WALKING\\Subject_1.csv').iloc[:1000]\n",
    "WalkingDown_df = pd.read_csv('..\\HAR\\Combined\\Train\\WALKING_DOWNSTAIRS\\Subject_1.csv').iloc[:1000]\n",
    "WalkingUp_df = pd.read_csv('..\\HAR\\Combined\\Train\\WALKING_UPSTAIRS\\Subject_1.csv').iloc[:1000]\n",
    "\n",
    "dfs = [Laying_df,Sitting_df,Standing_df,Walking_df,WalkingDown_df,WalkingUp_df]\n",
    "# Axis labels for plots\n",
    "axis_labels = ['x', 'y', 'z']\n",
    "labels = ['LAYING','SITTING','STANDING','WALKING','WALKING_DOWN','WALKING_UP']\n"
   ]
  }
 ],
 "metadata": {
  "kernelspec": {
   "display_name": "Python 3",
   "language": "python",
   "name": "python3"
  },
  "language_info": {
   "codemirror_mode": {
    "name": "ipython",
    "version": 3
   },
   "file_extension": ".py",
   "mimetype": "text/x-python",
   "name": "python",
   "nbconvert_exporter": "python",
   "pygments_lexer": "ipython3",
   "version": "3.11.9"
  }
 },
 "nbformat": 4,
 "nbformat_minor": 2
}
