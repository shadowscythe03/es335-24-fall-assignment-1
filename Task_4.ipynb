{
 "cells": [
  {
   "cell_type": "markdown",
   "metadata": {},
   "source": [
    "# Task-4"
   ]
  },
  {
   "cell_type": "code",
   "execution_count": 33,
   "metadata": {},
   "outputs": [],
   "source": [
    "import matplotlib.pyplot as plt\n",
    "import pandas as pd\n",
    "import numpy as np\n",
    "import seaborn as sns\n",
    "import os\n",
    "from sklearn.tree import DecisionTreeClassifier\n",
    "from sklearn.metrics import accuracy_score, precision_score, recall_score, confusion_matrix"
   ]
  },
  {
   "cell_type": "markdown",
   "metadata": {},
   "source": [
    "#### This used for the preprocessing of collected datset don't run this below code!!"
   ]
  },
  {
   "cell_type": "code",
   "execution_count": 46,
   "metadata": {},
   "outputs": [
    {
     "name": "stdout",
     "output_type": "stream",
     "text": [
      "Processing complete!\n"
     ]
    }
   ],
   "source": [
    "# import os\n",
    "# import pandas as pd\n",
    "# from sklearn.preprocessing import MinMaxScaler\n",
    "\n",
    "# # Set the path to the folder containing the CSV files\n",
    "# folder_path = './Task 4 Datasets/Raw_Datasets'\n",
    "\n",
    "# # Iterate over all files in the folder\n",
    "# for filename in os.listdir(folder_path):\n",
    "#     if filename.endswith('.csv'):\n",
    "#         file_path = os.path.join(folder_path, filename)\n",
    "        \n",
    "#         # Read the CSV file\n",
    "#         df = pd.read_csv(file_path)\n",
    "        \n",
    "#         # Drop the first and last columns\n",
    "#         df = df.iloc[:, 1:-1]\n",
    "        \n",
    "#         # Trim the rows from 300 to 799 (indexing starts from 0)\n",
    "#         df = df.iloc[299:799]\n",
    "        \n",
    "#         # Save the modified DataFrame back to the same file or a new file\n",
    "#         df.to_csv(os.path.join('./Task 4 Datasets/Trimed_Datasets', filename), index=False)\n",
    "\n",
    "# print(\"Processing complete!\")\n"
   ]
  },
  {
   "cell_type": "code",
   "execution_count": 53,
   "metadata": {},
   "outputs": [],
   "source": [
    "import os\n",
    "import pandas as pd\n",
    "from sklearn.utils import shuffle\n",
    "\n",
    "\n",
    "def Combining_Datasets(train_dir):\n",
    "    # Activity mapping dictionary\n",
    "    ACTIVITIES = {\n",
    "        1: 'WALKING'            ,\n",
    "        2: 'WALKING_UPSTAIRS'   ,\n",
    "        3: 'WALKING_DOWNSTAIRS' ,\n",
    "        4: 'SITTING'            ,\n",
    "        5: 'STANDING'           ,\n",
    "        6: 'LAYING'             ,\n",
    "    }\n",
    "\n",
    "    # Initialize empty DataFrames for X_train and y_train\n",
    "    \n",
    "    y_train = []\n",
    "    X_train_combined = []\n",
    "    for label in range(1,7):\n",
    "        activity_folder = os.path.join(train_dir,ACTIVITIES[label])\n",
    "        if os.path.exists(activity_folder):\n",
    "        # Loop through each file in the activity folder\n",
    "            for file in os.listdir(activity_folder):\n",
    "                if file.endswith('.csv'):\n",
    "                    # Read the CSV file\n",
    "                    file_path = os.path.join(activity_folder, file)\n",
    "                    df = pd.read_csv(file_path)\n",
    "                    \n",
    "                    # Combine the three columns into one using the formula column1^2 + column2^2 + column3^2\n",
    "                    combined_column = df.iloc[:, 0]**2 + df.iloc[:, 1]**2 + df.iloc[:, 2]**2\n",
    "                    \n",
    "                    X_train_combined.append(combined_column)\n",
    "                \n",
    "                # Append the numeric label to y_train\n",
    "                y_train.append(label)\n",
    "        else:\n",
    "            print(f\"Directory not found: {activity_folder}\")\n",
    "\n",
    "    # Convert X_train_combined and y_train to DataFrames\n",
    "    X_train_combined = pd.DataFrame(X_train_combined)\n",
    "    y_train = pd.DataFrame(y_train)\n",
    "\n",
    "    return X_train_combined,y_train\n",
    "\n"
   ]
  },
  {
   "cell_type": "code",
   "execution_count": 54,
   "metadata": {},
   "outputs": [],
   "source": [
    "import joblib\n",
    "\n",
    "def PreformanceDecisionTree(X_test,y_test,file):\n",
    "\n",
    "    model = joblib.load(f'./Task_2 Models files/{file}')\n",
    "    y_pred = model.predict(X_test)\n",
    "    print(y_pred.shape)\n",
    "\n",
    "    accuracy = accuracy_score(y_test, y_pred)\n",
    "    precision = precision_score(y_test, y_pred, average='weighted')\n",
    "    recall = recall_score(y_test, y_pred, average='weighted')\n",
    "    activity_mapping = {\n",
    "        1: 'LAYING',\n",
    "        2: 'SITTING',\n",
    "        3: 'STANDING',\n",
    "        4: 'WALKING',\n",
    "        5: 'WALKING DOWNSTAIRS',\n",
    "        6: 'WALKING UPSTAIRS'\n",
    "    }\n",
    "    \n",
    "\n",
    "    conf_matrix = confusion_matrix(y_test, y_pred)\n",
    "\n",
    "   \n",
    "\n",
    "    print(f\"Accuracy: {accuracy:.4f}\")\n",
    "    print(f\"Precision: {precision:.4f}\")\n",
    "    print(f\"Recall: {recall:.4f}\")\n",
    "    \n",
    "     # Plotting the confusion matrix\n",
    "    plt.figure(figsize=(8, 6))\n",
    "    sns.heatmap(conf_matrix, annot=True, fmt='d', cmap='Blues', cbar=False)\n",
    "    plt.title('Confusion Matrix')\n",
    "    plt.xlabel('Predicted Label')\n",
    "    plt.ylabel('True Label')\n",
    "    plt.show()"
   ]
  },
  {
   "cell_type": "markdown",
   "metadata": {},
   "source": [
    "## 4.1"
   ]
  },
  {
   "cell_type": "code",
   "execution_count": 55,
   "metadata": {},
   "outputs": [
    {
     "name": "stdout",
     "output_type": "stream",
     "text": [
      "(18,)\n",
      "Accuracy: 0.1667\n",
      "Precision: 0.0556\n",
      "Recall: 0.1667\n"
     ]
    },
    {
     "name": "stderr",
     "output_type": "stream",
     "text": [
      "c:\\Users\\Shiva\\AppData\\Local\\Programs\\Python\\Python310\\lib\\site-packages\\sklearn\\metrics\\_classification.py:1531: UndefinedMetricWarning: Precision is ill-defined and being set to 0.0 in labels with no predicted samples. Use `zero_division` parameter to control this behavior.\n",
      "  _warn_prf(average, modifier, f\"{metric.capitalize()} is\", len(result))\n"
     ]
    },
    {
     "data": {
      "image/png": "[encoded data removed]",
      "text/plain": [
       "<Figure size 800x600 with 1 Axes>"
      ]
     },
     "metadata": {},
     "output_type": "display_data"
    }
   ],
   "source": [
    "# Path to the Train directory\n",
    "train_dir = os.path.abspath('Task 4 Datasets/4.1_Raw_Datasets/Train')\n",
    "test_dir = os.path.abspath('Task 4 Datasets/4.1_Raw_Datasets/Test')\n",
    "X_train_collected_data,y_train_collected_data = Combining_Datasets(train_dir)\n",
    "X_test_collected_data, y_test_collected_data = Combining_Datasets(test_dir)\n",
    "\n",
    "X_test_combined = pd.concat([X_train_collected_data, X_test_collected_data], ignore_index=True)\n",
    "y_test_combined = pd.concat([y_train_collected_data, y_test_collected_data], ignore_index=True)\n",
    "PreformanceDecisionTree(X_test_combined,y_test_combined,'DecisionTree_Raw_acc.pkl')"
   ]
  },
  {
   "cell_type": "markdown",
   "metadata": {},
   "source": [
    "## 4.2"
   ]
  },
  {
   "cell_type": "code",
   "execution_count": 57,
   "metadata": {},
   "outputs": [
    {
     "name": "stdout",
     "output_type": "stream",
     "text": [
      "(18,)\n",
      "Accuracy: 0.2222\n",
      "Precision: 0.2519\n",
      "Recall: 0.2222\n"
     ]
    },
    {
     "name": "stderr",
     "output_type": "stream",
     "text": [
      "c:\\Users\\Shiva\\AppData\\Local\\Programs\\Python\\Python310\\lib\\site-packages\\sklearn\\metrics\\_classification.py:1531: UndefinedMetricWarning: Precision is ill-defined and being set to 0.0 in labels with no predicted samples. Use `zero_division` parameter to control this behavior.\n",
      "  _warn_prf(average, modifier, f\"{metric.capitalize()} is\", len(result))\n"
     ]
    },
    {
     "data": {
      "image/png": "[encoded data removed]",
      "text/plain": [
       "<Figure size 800x600 with 1 Axes>"
      ]
     },
     "metadata": {},
     "output_type": "display_data"
    }
   ],
   "source": [
    "\n",
    "# Path to the Train directory\n",
    "train_dir = os.path.abspath('Task 4 Datasets/4.2_Normalized_Datasets/Train')\n",
    "test_dir = os.path.abspath('Task 4 Datasets/4.2_Normalized_Datasets/Test')\n",
    "X_train_Normalized,y_train_Normalized = Combining_Datasets(train_dir)\n",
    "X_test_Normalized, y_test_Normalized = Combining_Datasets(test_dir)\n",
    "\n",
    "X_test_combined = pd.concat([X_train_Normalized, X_test_Normalized], ignore_index=True)\n",
    "y_test_combined = pd.concat([y_train_Normalized, y_test_Normalized], ignore_index=True)\n",
    "PreformanceDecisionTree(X_test_combined,y_test_combined,'DecisionTree_Raw_acc.pkl')\n"
   ]
  },
  {
   "cell_type": "code",
   "execution_count": null,
   "metadata": {},
   "outputs": [],
   "source": []
  }
 ],
 "metadata": {
  "kernelspec": {
   "display_name": "Python 3",
   "language": "python",
   "name": "python3"
  },
  "language_info": {
   "codemirror_mode": {
    "name": "ipython",
    "version": 3
   },
   "file_extension": ".py",
   "mimetype": "text/x-python",
   "name": "python",
   "nbconvert_exporter": "python",
   "pygments_lexer": "ipython3",
   "version": "3.10.6"
  }
 },
 "nbformat": 4,
 "nbformat_minor": 2
}
