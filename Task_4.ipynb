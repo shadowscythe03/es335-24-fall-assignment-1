{
 "cells": [
  {
   "cell_type": "markdown",
   "metadata": {},
   "source": []
  },
  {
   "cell_type": "code",
   "execution_count": 6,
   "metadata": {},
   "outputs": [
    {
     "name": "stdout",
     "output_type": "stream",
     "text": [
      "Processing complete!\n"
     ]
    }
   ],
   "source": [
    "import os\n",
    "import pandas as pd\n",
    "from sklearn.preprocessing import MinMaxScaler\n",
    "%config InlineBackend.figure_format='retina'\n",
    "\n",
    "# Set the path to the folder containing the CSV files\n",
    "folder_path = './Task 4 Datasets/Raw_Datasets'\n",
    "\n",
    "# Iterate over all files in the folder\n",
    "for filename in os.listdir(folder_path):\n",
    "    if filename.endswith('.csv'):\n",
    "        file_path = os.path.join(folder_path, filename)\n",
    "        \n",
    "        # Read the CSV file\n",
    "        df = pd.read_csv(file_path)\n",
    "        \n",
    "        # Drop the first and last columns\n",
    "        df = df.iloc[:, 1:-1]\n",
    "        \n",
    "        # Trim the rows from 300 to 799 (indexing starts from 0)\n",
    "        df = df.iloc[299:799]\n",
    "        scaler = MinMaxScaler()\n",
    "\n",
    "        # Fit and transform the DataFrame\n",
    "        df_normalized = pd.DataFrame(scaler.fit_transform(df), columns=df.columns)\n",
    "\n",
    "        \n",
    "        # Save the modified DataFrame back to the same file or a new file\n",
    "        df_normalized.to_csv(os.path.join('./Task 4 Datasets/Trimed_Datasets', filename), index=False)\n",
    "\n",
    "print(\"Processing complete!\")\n"
   ]
  },
  {
   "cell_type": "code",
   "execution_count": null,
   "metadata": {},
   "outputs": [],
   "source": []
  }
 ],
 "metadata": {
  "kernelspec": {
   "display_name": "Python 3",
   "language": "python",
   "name": "python3"
  },
  "language_info": {
   "codemirror_mode": {
    "name": "ipython",
    "version": 3
   },
   "file_extension": ".py",
   "mimetype": "text/x-python",
   "name": "python",
   "nbconvert_exporter": "python",
   "pygments_lexer": "ipython3",
   "version": "3.10.6"
  }
 },
 "nbformat": 4,
 "nbformat_minor": 2
}
