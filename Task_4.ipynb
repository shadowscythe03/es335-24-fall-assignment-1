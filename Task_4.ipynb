{
 "cells": [
  {
   "cell_type": "markdown",
   "metadata": {},
   "source": [
    "# Task-4"
   ]
  },
  {
   "cell_type": "code",
   "execution_count": 3,
   "metadata": {},
   "outputs": [],
   "source": [
    "import matplotlib.pyplot as plt\n",
    "import pandas as pd\n",
    "import numpy as np\n",
    "import seaborn as sns\n",
    "import os\n",
    "from sklearn.tree import DecisionTreeClassifier\n",
    "from sklearn.metrics import accuracy_score, precision_score, recall_score, confusion_matrix"
   ]
  },
  {
   "cell_type": "markdown",
   "metadata": {},
   "source": [
    "#### This used for the preprocessing of collected datset don't run this below code!!"
   ]
  },
  {
   "cell_type": "code",
   "execution_count": 4,
   "metadata": {},
   "outputs": [],
   "source": [
    "# import os\n",
    "# import pandas as pd\n",
    "# from sklearn.preprocessing import MinMaxScaler\n",
    "\n",
    "# # Set the path to the folder containing the CSV files\n",
    "# folder_path = './Task 4 Datasets/Raw_Datasets'\n",
    "\n",
    "# # Iterate over all files in the folder\n",
    "# for filename in os.listdir(folder_path):\n",
    "#     if filename.endswith('.csv'):\n",
    "#         file_path = os.path.join(folder_path, filename)\n",
    "        \n",
    "#         # Read the CSV file\n",
    "#         df = pd.read_csv(file_path)\n",
    "        \n",
    "#         # Drop the first and last columns\n",
    "#         df = df.iloc[:, 1:-1]\n",
    "        \n",
    "#         # Trim the rows from 300 to 799 (indexing starts from 0)\n",
    "#         df = df.iloc[299:799]\n",
    "        \n",
    "#         # Save the modified DataFrame back to the same file or a new file\n",
    "#         df.to_csv(os.path.join('./Task 4 Datasets/Trimed_Datasets', filename), index=False)\n",
    "\n",
    "# print(\"Processing complete!\")\n"
   ]
  },
  {
   "cell_type": "code",
   "execution_count": 5,
   "metadata": {},
   "outputs": [],
   "source": [
    "import os\n",
    "import pandas as pd\n",
    "from sklearn.utils import shuffle\n",
    "\n",
    "\n",
    "def Combining_Datasets(train_dir):\n",
    "    # Activity mapping dictionary\n",
    "    ACTIVITIES = {\n",
    "        1: 'WALKING'            ,\n",
    "        2: 'WALKING_UPSTAIRS'   ,\n",
    "        3: 'WALKING_DOWNSTAIRS' ,\n",
    "        4: 'SITTING'            ,\n",
    "        5: 'STANDING'           ,\n",
    "        6: 'LAYING'             ,\n",
    "    }\n",
    "\n",
    "    # Initialize empty DataFrames for X_train and y_train\n",
    "    \n",
    "    y_train = []\n",
    "    X_train_combined = []\n",
    "    for label in range(1,7):\n",
    "        activity_folder = os.path.join(train_dir,ACTIVITIES[label])\n",
    "        if os.path.exists(activity_folder):\n",
    "        # Loop through each file in the activity folder\n",
    "            for file in os.listdir(activity_folder):\n",
    "                if file.endswith('.csv'):\n",
    "                    # Read the CSV file\n",
    "                    file_path = os.path.join(activity_folder, file)\n",
    "                    df = pd.read_csv(file_path)\n",
    "                    \n",
    "                    # Combine the three columns into one using the formula column1^2 + column2^2 + column3^2\n",
    "                    combined_column = df.iloc[:, 0]**2 + df.iloc[:, 1]**2 + df.iloc[:, 2]**2\n",
    "                    \n",
    "                    X_train_combined.append(combined_column)\n",
    "                \n",
    "                # Append the numeric label to y_train\n",
    "                y_train.append(label)\n",
    "        else:\n",
    "            print(f\"Directory not found: {activity_folder}\")\n",
    "\n",
    "    # Convert X_train_combined and y_train to DataFrames\n",
    "    X_train_combined = pd.DataFrame(X_train_combined)\n",
    "    y_train = pd.DataFrame(y_train)\n",
    "\n",
    "    return X_train_combined,y_train\n",
    "\n"
   ]
  },
  {
   "cell_type": "code",
   "execution_count": 6,
   "metadata": {},
   "outputs": [],
   "source": [
    "import joblib\n",
    "\n",
    "def PreformanceDecisionTree(X_test,y_test,file):\n",
    "\n",
    "    model = joblib.load(f'./Task_2 Models files/{file}')\n",
    "    y_pred = model.predict(X_test)\n",
    "    print(y_pred.shape)\n",
    "\n",
    "    accuracy = accuracy_score(y_test, y_pred)\n",
    "    precision = precision_score(y_test, y_pred, average='weighted')\n",
    "    recall = recall_score(y_test, y_pred, average='weighted')\n",
    "    activity_mapping = {\n",
    "        1: 'LAYING',\n",
    "        2: 'SITTING',\n",
    "        3: 'STANDING',\n",
    "        4: 'WALKING',\n",
    "        5: 'WALKING DOWNSTAIRS',\n",
    "        6: 'WALKING UPSTAIRS'\n",
    "    }\n",
    "    \n",
    "\n",
    "    conf_matrix = confusion_matrix(y_test, y_pred)\n",
    "\n",
    "   \n",
    "\n",
    "    print(f\"Accuracy: {accuracy:.4f}\")\n",
    "    print(f\"Precision: {precision:.4f}\")\n",
    "    print(f\"Recall: {recall:.4f}\")\n",
    "    \n",
    "     # Plotting the confusion matrix\n",
    "    plt.figure(figsize=(8, 6))\n",
    "    sns.heatmap(conf_matrix, annot=True, fmt='d', cmap='Blues', cbar=False)\n",
    "    plt.title('Confusion Matrix')\n",
    "    plt.xlabel('Predicted Label')\n",
    "    plt.ylabel('True Label')\n",
    "    plt.show()"
   ]
  },
  {
   "cell_type": "markdown",
   "metadata": {},
   "source": [
    "## 4.1\n",
    "\n",
    "Our test data is similar to Raw_accelero_meter data which is (126,500) so we have (18,500) we will test this on that model "
   ]
  },
  {
   "cell_type": "code",
   "execution_count": 7,
   "metadata": {},
   "outputs": [
    {
     "name": "stdout",
     "output_type": "stream",
     "text": [
      "(18,)\n",
      "Accuracy: 0.1667\n",
      "Precision: 0.0556\n",
      "Recall: 0.1667\n"
     ]
    },
    {
     "name": "stderr",
     "output_type": "stream",
     "text": [
      "c:\\Users\\Shiva\\AppData\\Local\\Programs\\Python\\Python310\\lib\\site-packages\\sklearn\\metrics\\_classification.py:1531: UndefinedMetricWarning: Precision is ill-defined and being set to 0.0 in labels with no predicted samples. Use `zero_division` parameter to control this behavior.\n",
      "  _warn_prf(average, modifier, f\"{metric.capitalize()} is\", len(result))\n"
     ]
    },
    {
     "data": {
      "image/png": "[encoded data removed]",
      "text/plain": [
       "<Figure size 800x600 with 1 Axes>"
      ]
     },
     "metadata": {},
     "output_type": "display_data"
    }
   ],
   "source": [
    "# Path to the Train directory\n",
    "train_dir = os.path.abspath('Task 4 Datasets/4.1_Raw_Datasets/Train')\n",
    "test_dir = os.path.abspath('Task 4 Datasets/4.1_Raw_Datasets/Test')\n",
    "X_train_collected_data,y_train_collected_data = Combining_Datasets(train_dir)\n",
    "X_test_collected_data, y_test_collected_data = Combining_Datasets(test_dir)\n",
    "\n",
    "X_test_combined = pd.concat([X_train_collected_data, X_test_collected_data], ignore_index=True)\n",
    "y_test_combined = pd.concat([y_train_collected_data, y_test_collected_data], ignore_index=True)\n",
    "PreformanceDecisionTree(X_test_combined,y_test_combined,'DecisionTree_Raw_acc.pkl')"
   ]
  },
  {
   "cell_type": "markdown",
   "metadata": {},
   "source": [
    "#### Using TSFEL for Prediction"
   ]
  },
  {
   "cell_type": "code",
   "execution_count": 9,
   "metadata": {},
   "outputs": [
    {
     "name": "stdout",
     "output_type": "stream",
     "text": [
      "*** Feature extraction started ***\n"
     ]
    },
    {
     "data": {
      "text/html": [
       "\n",
       "              <p>\n",
       "                  Progress: 100% Complete\n",
       "              <p/>\n",
       "              <progress\n",
       "                  value='18'\n",
       "                  max='18',\n",
       "                  style='width: 25%',\n",
       "              >\n",
       "                  18\n",
       "              </progress>\n",
       "\n",
       "    "
      ],
      "text/plain": [
       "<IPython.core.display.HTML object>"
      ]
     },
     "metadata": {},
     "output_type": "display_data"
    },
    {
     "name": "stdout",
     "output_type": "stream",
     "text": [
      "\n",
      "*** Feature extraction finished ***\n",
      "(18,)\n",
      "Accuracy: 0.2222\n",
      "Precision: 0.1111\n",
      "Recall: 0.2222\n"
     ]
    },
    {
     "name": "stderr",
     "output_type": "stream",
     "text": [
      "c:\\Users\\Shiva\\AppData\\Local\\Programs\\Python\\Python310\\lib\\site-packages\\sklearn\\metrics\\_classification.py:1531: UndefinedMetricWarning: Precision is ill-defined and being set to 0.0 in labels with no predicted samples. Use `zero_division` parameter to control this behavior.\n",
      "  _warn_prf(average, modifier, f\"{metric.capitalize()} is\", len(result))\n"
     ]
    },
    {
     "data": {
      "image/png": "[encoded data removed]",
      "text/plain": [
       "<Figure size 800x600 with 1 Axes>"
      ]
     },
     "metadata": {},
     "output_type": "display_data"
    }
   ],
   "source": [
    "import tsfel\n",
    "\n",
    "X_test_sig = list(X_test_combined.to_numpy())\n",
    "\n",
    "cfg_file = tsfel.get_features_by_domain()  # All features\n",
    "# Get features\n",
    "X_test_TSFEL = tsfel.time_series_features_extractor(cfg_file, X_test_sig, fs = 100)\n",
    "\n",
    "y_test_TSFEL = y_test_combined\n",
    "\n",
    "PreformanceDecisionTree(X_test_TSFEL,y_test_TSFEL,'DecisionTree_TSFEL.pkl')\n"
   ]
  },
  {
   "cell_type": "markdown",
   "metadata": {},
   "source": [
    "The model perfoemance is not as expected it has too low values of accuracy, precision and recall for both Raw Accelerometer and TSFEL models.\n",
    "\n",
    "For Raw Accelerometer model:\n",
    "Accuracy: 0.1667\n",
    "Precision: 0.0556\n",
    "Recall: 0.1667\n",
    "\n",
    "For TSFEL model:\n",
    "Accuracy: 0.2222\n",
    "Precision: 0.1111\n",
    "Recall: 0.2222\n",
    "\n",
    "The Accuracy imporved for TSFEL.\n"
   ]
  },
  {
   "cell_type": "markdown",
   "metadata": {},
   "source": [
    "## 4.2\n",
    "\n",
    "We used Normalized data for this question and model we used the same raw_accelerometer_trained model (126,500) "
   ]
  },
  {
   "cell_type": "code",
   "execution_count": 12,
   "metadata": {},
   "outputs": [
    {
     "name": "stdout",
     "output_type": "stream",
     "text": [
      "(18,)\n",
      "Accuracy: 0.2222\n",
      "Precision: 0.2519\n",
      "Recall: 0.2222\n"
     ]
    },
    {
     "name": "stderr",
     "output_type": "stream",
     "text": [
      "c:\\Users\\Shiva\\AppData\\Local\\Programs\\Python\\Python310\\lib\\site-packages\\sklearn\\metrics\\_classification.py:1531: UndefinedMetricWarning: Precision is ill-defined and being set to 0.0 in labels with no predicted samples. Use `zero_division` parameter to control this behavior.\n",
      "  _warn_prf(average, modifier, f\"{metric.capitalize()} is\", len(result))\n"
     ]
    },
    {
     "data": {
      "image/png": "[encoded data removed]",
      "text/plain": [
       "<Figure size 800x600 with 1 Axes>"
      ]
     },
     "metadata": {},
     "output_type": "display_data"
    }
   ],
   "source": [
    "\n",
    "# Path to the Train directory\n",
    "train_dir = os.path.abspath('Task 4 Datasets/4.2_Normalized_Datasets/Train')\n",
    "test_dir = os.path.abspath('Task 4 Datasets/4.2_Normalized_Datasets/Test')\n",
    "X_train_Normalized,y_train_Normalized = Combining_Datasets(train_dir)\n",
    "X_test_Normalized, y_test_Normalized = Combining_Datasets(test_dir)\n",
    "\n",
    "X_test_combined = pd.concat([X_train_Normalized, X_test_Normalized], ignore_index=True)\n",
    "y_test_combined = pd.concat([y_train_Normalized, y_test_Normalized], ignore_index=True)\n",
    "PreformanceDecisionTree(X_test_combined,y_test_combined,'DecisionTree_Raw_acc.pkl')\n"
   ]
  },
  {
   "cell_type": "code",
   "execution_count": 13,
   "metadata": {},
   "outputs": [
    {
     "name": "stdout",
     "output_type": "stream",
     "text": [
      "*** Feature extraction started ***\n"
     ]
    },
    {
     "data": {
      "text/html": [
       "\n",
       "              <p>\n",
       "                  Progress: 100% Complete\n",
       "              <p/>\n",
       "              <progress\n",
       "                  value='18'\n",
       "                  max='18',\n",
       "                  style='width: 25%',\n",
       "              >\n",
       "                  18\n",
       "              </progress>\n",
       "\n",
       "    "
      ],
      "text/plain": [
       "<IPython.core.display.HTML object>"
      ]
     },
     "metadata": {},
     "output_type": "display_data"
    },
    {
     "name": "stdout",
     "output_type": "stream",
     "text": [
      "\n",
      "*** Feature extraction finished ***\n",
      "(18,)\n",
      "Accuracy: 0.1667\n",
      "Precision: 0.0294\n",
      "Recall: 0.1667\n"
     ]
    },
    {
     "name": "stderr",
     "output_type": "stream",
     "text": [
      "c:\\Users\\Shiva\\AppData\\Local\\Programs\\Python\\Python310\\lib\\site-packages\\sklearn\\metrics\\_classification.py:1531: UndefinedMetricWarning: Precision is ill-defined and being set to 0.0 in labels with no predicted samples. Use `zero_division` parameter to control this behavior.\n",
      "  _warn_prf(average, modifier, f\"{metric.capitalize()} is\", len(result))\n"
     ]
    },
    {
     "data": {
      "image/png": "[encoded data removed]",
      "text/plain": [
       "<Figure size 800x600 with 1 Axes>"
      ]
     },
     "metadata": {},
     "output_type": "display_data"
    }
   ],
   "source": [
    "import tsfel\n",
    "\n",
    "X_test_sig = list(X_test_combined.to_numpy())\n",
    "\n",
    "cfg_file = tsfel.get_features_by_domain()  # All features\n",
    "# Get features\n",
    "X_test_TSFEL = tsfel.time_series_features_extractor(cfg_file, X_test_sig, fs = 100)\n",
    "\n",
    "y_test_TSFEL = y_test_combined\n",
    "\n",
    "PreformanceDecisionTree(X_test_TSFEL,y_test_TSFEL,'DecisionTree_TSFEL.pkl')"
   ]
  },
  {
   "cell_type": "markdown",
   "metadata": {},
   "source": [
    "Compared to the previous Raw accelerometer model this normalized accelerometer data is perfoem better with results:\n",
    "\n",
    "Accuracy: 0.2222\n",
    "Precision: 0.2519\n",
    "Recall: 0.2222\n",
    "\n",
    "But TSFEL decilned in the performance!"
   ]
  },
  {
   "cell_type": "markdown",
   "metadata": {},
   "source": []
  },
  {
   "cell_type": "markdown",
   "metadata": {},
   "source": [
    "## Q3"
   ]
  },
  {
   "cell_type": "code",
   "execution_count": null,
   "metadata": {},
   "outputs": [],
   "source": [
    "import numpy as np\n",
    "\n",
    "# Define the arrays\n",
    "Y_test_collected = np.array([1, 2, 3, 4, 5, 6])\n",
    "Y_train_collected = np.array([1, 1, 2, 2, 3, 3, 4, 4, 5, 5, 6, 6])\n",
    "\n",
    "# Save the arrays as .npy files\n",
    "np.save('Y_test_collected.npy', Y_test_collected)\n",
    "np.save('Y_train_collected.npy', Y_train_collected)\n",
    "\n",
    "# Verify the shapes\n",
    "print(\"Shape of Y_test_collected:\", Y_test_collected.shape)\n",
    "print(\"Shape of Y_train_collected:\", Y_train_collected.shape)\n",
    "print(\"The arrays have been saved to Y_test_collected.npy and Y_train_collected.npy\")\n"
   ]
  },
  {
   "cell_type": "code",
   "execution_count": 1,
   "metadata": {},
   "outputs": [
    {
     "name": "stdout",
     "output_type": "stream",
     "text": [
      "Requirement already satisfied: langchain_groq in c:\\users\\shiva\\appdata\\local\\programs\\python\\python310\\lib\\site-packages (0.1.9)\n",
      "Requirement already satisfied: groq<1,>=0.4.1 in c:\\users\\shiva\\appdata\\local\\programs\\python\\python310\\lib\\site-packages (from langchain_groq) (0.9.0)\n",
      "Requirement already satisfied: langchain-core<0.3.0,>=0.2.26 in c:\\users\\shiva\\appdata\\local\\programs\\python\\python310\\lib\\site-packages (from langchain_groq) (0.2.35)\n",
      "Requirement already satisfied: anyio<5,>=3.5.0 in c:\\users\\shiva\\appdata\\local\\programs\\python\\python310\\lib\\site-packages (from groq<1,>=0.4.1->langchain_groq) (4.4.0)\n",
      "Requirement already satisfied: distro<2,>=1.7.0 in c:\\users\\shiva\\appdata\\local\\programs\\python\\python310\\lib\\site-packages (from groq<1,>=0.4.1->langchain_groq) (1.9.0)\n",
      "Requirement already satisfied: httpx<1,>=0.23.0 in c:\\users\\shiva\\appdata\\local\\programs\\python\\python310\\lib\\site-packages (from groq<1,>=0.4.1->langchain_groq) (0.27.0)\n",
      "Requirement already satisfied: pydantic<3,>=1.9.0 in c:\\users\\shiva\\appdata\\local\\programs\\python\\python310\\lib\\site-packages (from groq<1,>=0.4.1->langchain_groq) (2.8.2)\n",
      "Requirement already satisfied: sniffio in c:\\users\\shiva\\appdata\\local\\programs\\python\\python310\\lib\\site-packages (from groq<1,>=0.4.1->langchain_groq) (1.3.1)\n",
      "Requirement already satisfied: typing-extensions<5,>=4.7 in c:\\users\\shiva\\appdata\\roaming\\python\\python310\\site-packages (from groq<1,>=0.4.1->langchain_groq) (4.12.2)\n",
      "Requirement already satisfied: PyYAML>=5.3 in c:\\users\\shiva\\appdata\\local\\programs\\python\\python310\\lib\\site-packages (from langchain-core<0.3.0,>=0.2.26->langchain_groq) (6.0.2)\n",
      "Requirement already satisfied: jsonpatch<2.0,>=1.33 in c:\\users\\shiva\\appdata\\local\\programs\\python\\python310\\lib\\site-packages (from langchain-core<0.3.0,>=0.2.26->langchain_groq) (1.33)\n",
      "Requirement already satisfied: langsmith<0.2.0,>=0.1.75 in c:\\users\\shiva\\appdata\\local\\programs\\python\\python310\\lib\\site-packages (from langchain-core<0.3.0,>=0.2.26->langchain_groq) (0.1.104)\n",
      "Requirement already satisfied: packaging<25,>=23.2 in c:\\users\\shiva\\appdata\\local\\programs\\python\\python310\\lib\\site-packages (from langchain-core<0.3.0,>=0.2.26->langchain_groq) (23.2)\n",
      "Requirement already satisfied: tenacity!=8.4.0,<9.0.0,>=8.1.0 in c:\\users\\shiva\\appdata\\local\\programs\\python\\python310\\lib\\site-packages (from langchain-core<0.3.0,>=0.2.26->langchain_groq) (8.5.0)\n",
      "Requirement already satisfied: idna>=2.8 in c:\\users\\shiva\\appdata\\local\\programs\\python\\python310\\lib\\site-packages (from anyio<5,>=3.5.0->groq<1,>=0.4.1->langchain_groq) (3.8)\n",
      "Requirement already satisfied: exceptiongroup>=1.0.2 in c:\\users\\shiva\\appdata\\roaming\\python\\python310\\site-packages (from anyio<5,>=3.5.0->groq<1,>=0.4.1->langchain_groq) (1.2.2)\n",
      "Requirement already satisfied: certifi in c:\\users\\shiva\\appdata\\local\\programs\\python\\python310\\lib\\site-packages (from httpx<1,>=0.23.0->groq<1,>=0.4.1->langchain_groq) (2024.7.4)\n",
      "Requirement already satisfied: httpcore==1.* in c:\\users\\shiva\\appdata\\local\\programs\\python\\python310\\lib\\site-packages (from httpx<1,>=0.23.0->groq<1,>=0.4.1->langchain_groq) (1.0.5)\n",
      "Requirement already satisfied: h11<0.15,>=0.13 in c:\\users\\shiva\\appdata\\local\\programs\\python\\python310\\lib\\site-packages (from httpcore==1.*->httpx<1,>=0.23.0->groq<1,>=0.4.1->langchain_groq) (0.14.0)\n",
      "Requirement already satisfied: jsonpointer>=1.9 in c:\\users\\shiva\\appdata\\local\\programs\\python\\python310\\lib\\site-packages (from jsonpatch<2.0,>=1.33->langchain-core<0.3.0,>=0.2.26->langchain_groq) (3.0.0)\n",
      "Requirement already satisfied: orjson<4.0.0,>=3.9.14 in c:\\users\\shiva\\appdata\\local\\programs\\python\\python310\\lib\\site-packages (from langsmith<0.2.0,>=0.1.75->langchain-core<0.3.0,>=0.2.26->langchain_groq) (3.10.7)\n",
      "Requirement already satisfied: requests<3,>=2 in c:\\users\\shiva\\appdata\\local\\programs\\python\\python310\\lib\\site-packages (from langsmith<0.2.0,>=0.1.75->langchain-core<0.3.0,>=0.2.26->langchain_groq) (2.32.3)\n",
      "Requirement already satisfied: annotated-types>=0.4.0 in c:\\users\\shiva\\appdata\\local\\programs\\python\\python310\\lib\\site-packages (from pydantic<3,>=1.9.0->groq<1,>=0.4.1->langchain_groq) (0.7.0)\n",
      "Requirement already satisfied: pydantic-core==2.20.1 in c:\\users\\shiva\\appdata\\local\\programs\\python\\python310\\lib\\site-packages (from pydantic<3,>=1.9.0->groq<1,>=0.4.1->langchain_groq) (2.20.1)\n",
      "Requirement already satisfied: charset-normalizer<4,>=2 in c:\\users\\shiva\\appdata\\local\\programs\\python\\python310\\lib\\site-packages (from requests<3,>=2->langsmith<0.2.0,>=0.1.75->langchain-core<0.3.0,>=0.2.26->langchain_groq) (3.3.2)\n",
      "Requirement already satisfied: urllib3<3,>=1.21.1 in c:\\users\\shiva\\appdata\\local\\programs\\python\\python310\\lib\\site-packages (from requests<3,>=2->langsmith<0.2.0,>=0.1.75->langchain-core<0.3.0,>=0.2.26->langchain_groq) (2.2.2)\n",
      "Note: you may need to restart the kernel to use updated packages.\n"
     ]
    }
   ],
   "source": [
    "%pip install langchain_groq"
   ]
  },
  {
   "cell_type": "code",
   "execution_count": null,
   "metadata": {},
   "outputs": [],
   "source": [
    "api_key = \"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\""
   ]
  },
  {
   "cell_type": "code",
   "execution_count": null,
   "metadata": {},
   "outputs": [],
   "source": [
    "import numpy as np\n",
    "import random\n",
    "from langchain_groq.chat_models import ChatGroq\n",
    "from sklearn.metrics import accuracy_score, confusion_matrix, ConfusionMatrixDisplay\n",
    "import re\n",
    "import matplotlib.pyplot as plt\n",
    "\n",
    "# Load data\n",
    "x_test_path = '/content/X_test_collected.npy'\n",
    "y_test_path = '/content/Y_test_collected.npy'\n",
    "x_train_path = '/content/X_train.npy'\n",
    "y_train_path = '/content/y_train.npy'\n",
    "x_test = np.load(x_test_path)\n",
    "y_test = np.load(y_test_path)\n",
    "x_train = np.load(x_train_path)\n",
    "y_train = np.load(y_train_path)\n",
    "\n",
    "# Label mappings\n",
    "label_mapping = {\n",
    "    \"LAYING\": 1,\n",
    "    \"SITTING\": 2,\n",
    "    \"STANDING\": 3,\n",
    "    \"WALKING\": 4,\n",
    "    \"WALKING_DOWNWARDS\": 5,\n",
    "    \"WALKING_UPWARDS\": 6\n",
    "}\n",
    "reverse_label_mapping = {v: k for k, v in label_mapping.items()}\n",
    "\n",
    "# Function to format a single example for few-shot learning\n",
    "def format_example(example):\n",
    "    ax = example[:, 0][:5]  # Increase data points used (5 for more context)\n",
    "    ay = example[:, 1][:5]\n",
    "    az = example[:, 2][:5]\n",
    "\n",
    "    formatted_string = (\n",
    "        f\"ax: {ax}\\n\"\n",
    "        f\"ay: {ay}\\n\"\n",
    "        f\"az: {az}\\n\"\n",
    "        f\"Activity: \"\n",
    "    )\n",
    "\n",
    "    return formatted_string\n",
    "\n",
    "# Prepare few-shot examples with 4 examples per label\n",
    "few_shot_examples = []\n",
    "few_shot_labels = []\n",
    "\n",
    "for label_name, label_id in label_mapping.items():\n",
    "    # Filter examples by label\n",
    "    label_indices = np.where(y_train == label_id)[0]\n",
    "    selected_indices = random.sample(list(label_indices), 4)  # 4 random examples\n",
    "\n",
    "    for idx in selected_indices:\n",
    "        example = x_train[idx]\n",
    "        indices = np.random.choice(example.shape[0], 5, replace=False)  # 5 data points\n",
    "        few_shot_examples.append(example[indices])\n",
    "        few_shot_labels.append(label_id)\n",
    "\n",
    "# Format the few-shot examples with their labels\n",
    "few_shot_prompts = [f\"{format_example(ex)} {reverse_label_mapping[label_id]}\" for ex, label_id in zip(few_shot_examples, few_shot_labels)]\n",
    "\n",
    "# Format input examples from x_test\n",
    "formatted_examples = [format_example(example) for example in x_test]\n",
    "\n",
    "# Combine few-shot prompts with each test example for prediction\n",
    "def create_few_shot_prompt(test_example):\n",
    "    few_shot_section = \"\\n\\n\".join(few_shot_prompts)\n",
    "    return f\"{few_shot_section}\\n\\n{test_example}\"\n",
    "\n",
    "# Initialize the model with the correct model ID\n",
    "model_name = \"llama-3.1-8b-instant\"\n",
    "model = ChatGroq(model_name=model_name, api_key=api_key)\n",
    "\n",
    "# Perform predictions using the ChatGroq model\n",
    "def predict_with_groq(formatted_examples, limit=6):\n",
    "    y_pred = []\n",
    "    for i in range(0, len(formatted_examples), limit):\n",
    "        batch_examples = formatted_examples[i:i+limit]\n",
    "        for example in batch_examples:\n",
    "            # Call the model to get a prediction\n",
    "            response = model.predict(create_few_shot_prompt(example))\n",
    "            y_pred.append(response)\n",
    "    return y_pred\n",
    "\n",
    "# Get predictions for all test examples using the ChatGroq model\n",
    "y_pred = predict_with_groq(formatted_examples, limit=6)\n",
    "\n",
    "# Extract activity labels from the model's response\n",
    "def extract_label(response):\n",
    "    match = re.search(r'\\b(LAYING|SITTING|STANDING|WALKING|WALKING_DOWNWARDS|WALKING_UPWARDS)\\b', response.upper())\n",
    "    return match.group(0) if match else \"UNKNOWN\"\n",
    "\n",
    "# Convert predictions to numeric labels\n",
    "y_pred_labels = [label_mapping.get(extract_label(pred), 0) for pred in y_pred]\n",
    "\n",
    "# Print the numeric predictions for all samples\n",
    "print(\"All predicted labels:\")\n",
    "print(y_pred_labels)\n",
    "\n",
    "print(\"All True labels:\")\n",
    "print(y_test)\n",
    "\n",
    "# Calculate and print accuracy\n",
    "accuracy = accuracy_score(y_test, y_pred_labels)\n",
    "print(f\"Accuracy: {accuracy}\")\n"
   ]
  },
  {
   "cell_type": "markdown",
   "metadata": {},
   "source": [
    "## Q4"
   ]
  },
  {
   "cell_type": "code",
   "execution_count": null,
   "metadata": {},
   "outputs": [],
   "source": [
    "import numpy as np\n",
    "import random\n",
    "from langchain_groq.chat_models import ChatGroq\n",
    "from sklearn.metrics import accuracy_score, confusion_matrix, ConfusionMatrixDisplay\n",
    "import re\n",
    "import matplotlib.pyplot as plt\n",
    "\n",
    "# Load data\n",
    "x_test_path = '/content/X_test_collected.npy'\n",
    "y_test_path = '/content/Y_test_collected.npy'\n",
    "x_train_path = '/content/X_train_collected.npy'\n",
    "y_train_path = '/content/Y_train_collected.npy'\n",
    "x_test = np.load(x_test_path)\n",
    "y_test = np.load(y_test_path)\n",
    "x_train = np.load(x_train_path)\n",
    "y_train = np.load(y_train_path)\n",
    "\n",
    "# Label mappings\n",
    "label_mapping = {\n",
    "    \"LAYING\": 1,\n",
    "    \"SITTING\": 2,\n",
    "    \"STANDING\": 3,\n",
    "    \"WALKING\": 4,\n",
    "    \"WALKING_DOWNWARDS\": 5,\n",
    "    \"WALKING_UPWARDS\": 6\n",
    "}\n",
    "reverse_label_mapping = {v: k for k, v in label_mapping.items()}\n",
    "\n",
    "# Function to format a single example for few-shot learning\n",
    "def format_example(example):\n",
    "    ax = example[:, 0][:5]  # Increase data points used (5 for more context)\n",
    "    ay = example[:, 1][:5]\n",
    "    az = example[:, 2][:5]\n",
    "\n",
    "    formatted_string = (\n",
    "        f\"ax: {ax}\\n\"\n",
    "        f\"ay: {ay}\\n\"\n",
    "        f\"az: {az}\\n\"\n",
    "        f\"Activity: \"\n",
    "    )\n",
    "\n",
    "    return formatted_string\n",
    "\n",
    "# Prepare few-shot examples with up to 2 examples per label\n",
    "few_shot_examples = []\n",
    "few_shot_labels = []\n",
    "\n",
    "for label_name, label_id in label_mapping.items():\n",
    "    # Filter examples by label\n",
    "    label_indices = np.where(y_train == label_id)[0]\n",
    "\n",
    "    # Adjust the sample size based on available examples\n",
    "    num_examples = min(2, len(label_indices))\n",
    "\n",
    "    if num_examples > 0:\n",
    "        selected_indices = random.sample(list(label_indices), num_examples)\n",
    "\n",
    "        for idx in selected_indices:\n",
    "            example = x_train[idx]\n",
    "            indices = np.random.choice(example.shape[0], 5, replace=False)  # 5 data points\n",
    "            few_shot_examples.append(example[indices])\n",
    "            few_shot_labels.append(label_id)\n",
    "\n",
    "# Format the few-shot examples with their labels\n",
    "few_shot_prompts = [f\"{format_example(ex)} {reverse_label_mapping[label_id]}\" for ex, label_id in zip(few_shot_examples, few_shot_labels)]\n",
    "\n",
    "# Format input examples from x_test\n",
    "formatted_examples = [format_example(example) for example in x_test]\n",
    "\n",
    "# Combine few-shot prompts with each test example for prediction\n",
    "def create_few_shot_prompt(test_example):\n",
    "    few_shot_section = \"\\n\\n\".join(few_shot_prompts)\n",
    "    return f\"{few_shot_section}\\n\\n{test_example}\"\n",
    "\n",
    "# Initialize the model with the correct model ID\n",
    "model_name = \"llama-3.1-8b-instant\"\n",
    "model = ChatGroq(model_name=model_name, api_key=api_key)\n",
    "\n",
    "# Perform predictions using the ChatGroq model\n",
    "def predict_with_groq(formatted_examples, limit=6):\n",
    "    y_pred = []\n",
    "    for i in range(0, len(formatted_examples), limit):\n",
    "        batch_examples = formatted_examples[i:i+limit]\n",
    "        for example in batch_examples:\n",
    "            # Call the model to get a prediction\n",
    "            response = model.predict(create_few_shot_prompt(example))\n",
    "            y_pred.append(response)\n",
    "    return y_pred\n",
    "\n",
    "# Get predictions for all test examples using the ChatGroq model\n",
    "y_pred = predict_with_groq(formatted_examples, limit=6)\n",
    "\n",
    "# Extract activity labels from the model's response\n",
    "def extract_label(response):\n",
    "    match = re.search(r'\\b(LAYING|SITTING|STANDING|WALKING|WALKING_DOWNWARDS|WALKING_UPWARDS)\\b', response.upper())\n",
    "    return match.group(0) if match else \"UNKNOWN\"\n",
    "\n",
    "# Convert predictions to numeric labels\n",
    "y_pred_labels = [label_mapping.get(extract_label(pred), 0) for pred in y_pred]\n",
    "\n",
    "# Print the numeric predictions for all samples\n",
    "print(\"All predicted labels:\")\n",
    "print(y_pred_labels)\n",
    "\n",
    "print(\"All True labels:\")\n",
    "print(y_test)\n",
    "\n",
    "# Calculate and print accuracy\n",
    "accuracy = accuracy_score(y_test, y_pred_labels)\n",
    "print(f\"Accuracy: {accuracy}\")\n"
   ]
  }
 ],
 "metadata": {
  "kernelspec": {
   "display_name": "Python 3",
   "language": "python",
   "name": "python3"
  },
  "language_info": {
   "codemirror_mode": {
    "name": "ipython",
    "version": 3
   },
   "file_extension": ".py",
   "mimetype": "text/x-python",
   "name": "python",
   "nbconvert_exporter": "python",
   "pygments_lexer": "ipython3",
   "version": "3.10.6"
  }
 },
 "nbformat": 4,
 "nbformat_minor": 2
}
